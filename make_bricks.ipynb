{
 "cells": [
  {
   "cell_type": "code",
   "execution_count": null,
   "id": "7a5ee265",
   "metadata": {},
   "outputs": [],
   "source": [
    "def make_bricks(small, big, goal):\n",
    "  big_req = goal//5       # how many big bricks does it take to get to goal\n",
    "  if big >= big_req:      # do we have enough big bricks\n",
    "    goal -= big_req * 5   # if yes, use up the neccessary big bricks\n",
    "  else:\n",
    "    goal -= big * 5       # if no, use up all the big bricks we have\n",
    "  return goal <= small    # return if the remainder is smaller than or equal to the small bricks\n",
    "    \n",
    "  "
   ]
  }
 ],
 "metadata": {
  "kernelspec": {
   "display_name": "Python 3 (ipykernel)",
   "language": "python",
   "name": "python3"
  },
  "language_info": {
   "codemirror_mode": {
    "name": "ipython",
    "version": 3
   },
   "file_extension": ".py",
   "mimetype": "text/x-python",
   "name": "python",
   "nbconvert_exporter": "python",
   "pygments_lexer": "ipython3",
   "version": "3.10.9"
  }
 },
 "nbformat": 4,
 "nbformat_minor": 5
}
